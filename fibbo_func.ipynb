{
 "cells": [
  {
   "cell_type": "code",
   "execution_count": null,
   "id": "e3f86547",
   "metadata": {},
   "outputs": [],
   "source": [
    "def fibbonaci(n):\n",
    "    \"\"\"\n",
    "    Arguments: \n",
    "    `n`: the nth element of the fibonacci series\n",
    "    \n",
    "    Output:\n",
    "    `element`: the fibonnaci number corresponding to the nth element of the series\n",
    "    \"\"\"\n",
    "    # Your code here\n",
    "\n",
    "    \n",
    "    if n<= 1:\n",
    "        return(n)\n",
    "    else:\n",
    "        return(fibbonaci(n-1) + fibbonaci(n-2))\n"
   ]
  },
  {
   "cell_type": "code",
   "execution_count": null,
   "id": "0d23ace7",
   "metadata": {},
   "outputs": [],
   "source": [
    "def scat_plt(var1, var2, groups):\n",
    "    levels = groups.unique()\n",
    "    plt.scatter(var1[groups == levels[0]], var2[groups == levels[0]], label= levels[0], alpha=0.5)\n",
    "    plt.scatter(var1[groups == levels[1]], var2[groups == levels[1]], label= levels[1], alpha=0.5)\n",
    "    plt.xlabel(var1.name)\n",
    "    plt.ylabel(var2.name)\n",
    "    plt.legend()\n",
    "    \n",
    "#scat_plt(df.percJitter, df.absJitter, df.status)"
   ]
  },
  {
   "cell_type": "code",
   "execution_count": null,
   "id": "bacf6179",
   "metadata": {},
   "outputs": [],
   "source": [
    "def renamevars(df, dict_names):\n",
    "    renamed_df = df.rename(columns=dict_names)\n",
    "    return renamed_df\n",
    "#try "
   ]
  },
  {
   "cell_type": "code",
   "execution_count": null,
   "id": "bf7af278",
   "metadata": {},
   "outputs": [],
   "source": [
    "# The scat_plt_2 function organizes the puts into axes for a better display\n",
    "def scat_plt_2(var1, var2, groups, ax):\n",
    "    levels = groups.unique()\n",
    "    ax.scatter(var1[groups == levels[0]], var2[groups == levels[0]], label=levels[0], alpha=0.5)\n",
    "    ax.scatter(var1[groups == levels[1]], var2[groups == levels[1]], label=levels[1], alpha=0.5)\n",
    "    ax.set_xlabel(var1.name)\n",
    "    ax.set_ylabel(var2.name)\n",
    "    ax.legend()"
   ]
  },
  {
   "cell_type": "code",
   "execution_count": null,
   "id": "abd2fa7a",
   "metadata": {},
   "outputs": [],
   "source": [
    "def group_and_average(df, gv):\n",
    "    av_df = df.groupby(gv).mean().reset_index()\n",
    "    return av_df"
   ]
  }
 ],
 "metadata": {
  "kernelspec": {
   "display_name": "Python 3 (ipykernel)",
   "language": "python",
   "name": "python3"
  },
  "language_info": {
   "codemirror_mode": {
    "name": "ipython",
    "version": 3
   },
   "file_extension": ".py",
   "mimetype": "text/x-python",
   "name": "python",
   "nbconvert_exporter": "python",
   "pygments_lexer": "ipython3",
   "version": "3.11.5"
  }
 },
 "nbformat": 4,
 "nbformat_minor": 5
}
