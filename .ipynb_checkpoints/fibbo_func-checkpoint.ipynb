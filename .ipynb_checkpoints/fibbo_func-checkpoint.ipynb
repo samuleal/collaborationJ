{
 "cells": [
  {
   "cell_type": "code",
   "execution_count": null,
   "id": "0d23ace7",
   "metadata": {},
   "outputs": [],
   "source": [
    "def scat_plt(var1, var2, groups):\n",
    "    levels = groups.unique()\n",
    "    plt.scatter(var1[groups == levels[0]], var2[groups == levels[0]], label= levels[0], alpha=0.5)\n",
    "    plt.scatter(var1[groups == levels[1]], var2[groups == levels[1]], label= levels[1], alpha=0.5)\n",
    "    plt.xlabel(var1.name)\n",
    "    plt.ylabel(var2.name)\n",
    "    plt.legend()\n",
    "    \n",
    "#scat_plt(df.percJitter, df.absJitter, df.status)"
   ]
  }
 ],
 "metadata": {
  "kernelspec": {
   "display_name": "Python 3",
   "language": "python",
   "name": "python3"
  },
  "language_info": {
   "codemirror_mode": {
    "name": "ipython",
    "version": 3
   },
   "file_extension": ".py",
   "mimetype": "text/x-python",
   "name": "python",
   "nbconvert_exporter": "python",
   "pygments_lexer": "ipython3",
   "version": "3.7.10"
  }
 },
 "nbformat": 4,
 "nbformat_minor": 5
}
