{
 "cells": [
  {
   "cell_type": "markdown",
   "id": "e2ad20ef",
   "metadata": {},
   "source": [
    "Collaborative coding using GitHub\n",
    "===========\n",
    "\n",
    "Alexandre Perera Luna, Mónica Rojas Martínez\n",
    "\n",
    "December 15th 2023\n"
   ]
  },
  {
   "cell_type": "markdown",
   "id": "9f9faf46",
   "metadata": {},
   "source": [
    "# Goal\n",
    "\n",
    "The objective of this assignment is to construct a project through collaborative coding, showcasing an Exploratory Data Analysis (EDA) and a classification. To facilitate your understanding of GitHub, we will utilize code snippets from previous exercises, allowing you to focus on the process without concerns about the final outcome. The current notebook will serve as the main function in the project, and each participant is required to develop additional components and integrate their contributions into the main branch.\n",
    "\n",
    "\n",
    "## Requirements\n",
    "\n",
    "In order to work with functions created in other jupyter notebooks you need to install the package `nbimporter` using a shell and the following command:\n",
    "\n",
    "<font color='grey'>pip install nbimporter</font> \n",
    "\n",
    "`nbimporter` allows you to import jupyter notebooks as modules. Once intalled and imported, you can use a command like the following to import a function called *fibonacci* that is stored on a notebook *fibbo_func* in the same path as the present notebook:\n",
    "\n",
    "<font color='green'>from</font> fibbo_func <font color='green'>import</font> fibbonaci  <font color='green'>as</font> fibbo\n",
    "\n"
   ]
  },
  {
   "cell_type": "code",
   "execution_count": 1,
   "id": "eccb4045",
   "metadata": {},
   "outputs": [],
   "source": [
    "## Modify this cell by importing all the necessary modules you need to solve the assigmnent. Observe that we are importing\n",
    "## the library nbimporter. You will need it for calling fuctions created in other notebooks.\n",
    "# Uncomment the line below if nbimproter not installed\n",
    "!pip install nbimporter\n",
    "\n",
    "import nbimporter\n",
    "import pandas as pd\n",
    "import numpy as np\n",
    "import matplotlib.pyplot as plt\n",
    "import matplotlib as mpl\n",
    "import seaborn as sns\n",
    "\n",
    "\n",
    "%matplotlib inline\n",
    "\n"
   ]
  },
  {
   "cell_type": "code",
   "execution_count": 12,
   "id": "78a064a3",
   "metadata": {},
   "outputs": [
    {
     "data": {
      "text/plain": [
       "46368"
      ]
     },
     "execution_count": 12,
     "metadata": {},
     "output_type": "execute_result"
    }
   ],
   "source": [
    "# Here is an example of invoking the Fibonacci function, whisch should be located in the same directory as the main:\n",
    "from fibbo_func import fibbonaci as fibbo\n",
    "fibbo(24)"
   ]
  },
  {
   "cell_type": "markdown",
   "id": "4fb6f6b0",
   "metadata": {},
   "source": [
    "## Exercises\n",
    "As an illustration of Git workflow, you will analyze the *Parkinson's* dataset, which has been previously examined in past assignments. Each team member has specific responsibilities that may be crucial for the progress of others. Make sure all of you organize your tasks accordingly. We've structured the analysis into modules to assist you in tracking your tasks, but feel free to deviate from it if you prefer.   \n",
    "Please use Markdown cells for describing your workflow and expalining the findings of your work. \n",
    "Remember you need both, to modify this notebook and, to create additional functions outside. Your work will only be available for others when you modify and merge your changes.\n"
   ]
  },
  {
   "cell_type": "code",
   "execution_count": 13,
   "id": "8f8690e3",
   "metadata": {},
   "outputs": [
    {
     "data": {
      "text/html": [
       "<div>\n",
       "<style scoped>\n",
       "    .dataframe tbody tr th:only-of-type {\n",
       "        vertical-align: middle;\n",
       "    }\n",
       "\n",
       "    .dataframe tbody tr th {\n",
       "        vertical-align: top;\n",
       "    }\n",
       "\n",
       "    .dataframe thead th {\n",
       "        text-align: right;\n",
       "    }\n",
       "</style>\n",
       "<table border=\"1\" class=\"dataframe\">\n",
       "  <thead>\n",
       "    <tr style=\"text-align: right;\">\n",
       "      <th></th>\n",
       "      <th>name</th>\n",
       "      <th>MDVP:Fo(Hz)</th>\n",
       "      <th>MDVP:Fhi(Hz)</th>\n",
       "      <th>MDVP:Flo(Hz)</th>\n",
       "      <th>MDVP:Jitter(%)</th>\n",
       "      <th>MDVP:Jitter(Abs)</th>\n",
       "      <th>MDVP:RAP</th>\n",
       "      <th>MDVP:PPQ</th>\n",
       "      <th>Jitter:DDP</th>\n",
       "      <th>MDVP:Shimmer</th>\n",
       "      <th>...</th>\n",
       "      <th>Shimmer:DDA</th>\n",
       "      <th>NHR</th>\n",
       "      <th>HNR</th>\n",
       "      <th>status</th>\n",
       "      <th>RPDE</th>\n",
       "      <th>DFA</th>\n",
       "      <th>spread1</th>\n",
       "      <th>spread2</th>\n",
       "      <th>D2</th>\n",
       "      <th>PPE</th>\n",
       "    </tr>\n",
       "  </thead>\n",
       "  <tbody>\n",
       "    <tr>\n",
       "      <th>0</th>\n",
       "      <td>phon_R01_S01_1</td>\n",
       "      <td>119.992</td>\n",
       "      <td>157.302</td>\n",
       "      <td>74.997</td>\n",
       "      <td>0.00784</td>\n",
       "      <td>0.00007</td>\n",
       "      <td>0.00370</td>\n",
       "      <td>0.00554</td>\n",
       "      <td>0.01109</td>\n",
       "      <td>0.04374</td>\n",
       "      <td>...</td>\n",
       "      <td>0.06545</td>\n",
       "      <td>0.02211</td>\n",
       "      <td>21.033</td>\n",
       "      <td>1</td>\n",
       "      <td>0.414783</td>\n",
       "      <td>0.815285</td>\n",
       "      <td>-4.813031</td>\n",
       "      <td>0.266482</td>\n",
       "      <td>2.301442</td>\n",
       "      <td>0.284654</td>\n",
       "    </tr>\n",
       "    <tr>\n",
       "      <th>1</th>\n",
       "      <td>phon_R01_S01_2</td>\n",
       "      <td>122.400</td>\n",
       "      <td>148.650</td>\n",
       "      <td>113.819</td>\n",
       "      <td>0.00968</td>\n",
       "      <td>0.00008</td>\n",
       "      <td>0.00465</td>\n",
       "      <td>0.00696</td>\n",
       "      <td>0.01394</td>\n",
       "      <td>0.06134</td>\n",
       "      <td>...</td>\n",
       "      <td>0.09403</td>\n",
       "      <td>0.01929</td>\n",
       "      <td>19.085</td>\n",
       "      <td>1</td>\n",
       "      <td>0.458359</td>\n",
       "      <td>0.819521</td>\n",
       "      <td>-4.075192</td>\n",
       "      <td>0.335590</td>\n",
       "      <td>2.486855</td>\n",
       "      <td>0.368674</td>\n",
       "    </tr>\n",
       "    <tr>\n",
       "      <th>2</th>\n",
       "      <td>phon_R01_S01_3</td>\n",
       "      <td>116.682</td>\n",
       "      <td>131.111</td>\n",
       "      <td>111.555</td>\n",
       "      <td>0.01050</td>\n",
       "      <td>0.00009</td>\n",
       "      <td>0.00544</td>\n",
       "      <td>0.00781</td>\n",
       "      <td>0.01633</td>\n",
       "      <td>0.05233</td>\n",
       "      <td>...</td>\n",
       "      <td>0.08270</td>\n",
       "      <td>0.01309</td>\n",
       "      <td>20.651</td>\n",
       "      <td>1</td>\n",
       "      <td>0.429895</td>\n",
       "      <td>0.825288</td>\n",
       "      <td>-4.443179</td>\n",
       "      <td>0.311173</td>\n",
       "      <td>2.342259</td>\n",
       "      <td>0.332634</td>\n",
       "    </tr>\n",
       "    <tr>\n",
       "      <th>3</th>\n",
       "      <td>phon_R01_S01_4</td>\n",
       "      <td>116.676</td>\n",
       "      <td>137.871</td>\n",
       "      <td>111.366</td>\n",
       "      <td>0.00997</td>\n",
       "      <td>0.00009</td>\n",
       "      <td>0.00502</td>\n",
       "      <td>0.00698</td>\n",
       "      <td>0.01505</td>\n",
       "      <td>0.05492</td>\n",
       "      <td>...</td>\n",
       "      <td>0.08771</td>\n",
       "      <td>0.01353</td>\n",
       "      <td>20.644</td>\n",
       "      <td>1</td>\n",
       "      <td>0.434969</td>\n",
       "      <td>0.819235</td>\n",
       "      <td>-4.117501</td>\n",
       "      <td>0.334147</td>\n",
       "      <td>2.405554</td>\n",
       "      <td>0.368975</td>\n",
       "    </tr>\n",
       "    <tr>\n",
       "      <th>4</th>\n",
       "      <td>phon_R01_S01_5</td>\n",
       "      <td>116.014</td>\n",
       "      <td>141.781</td>\n",
       "      <td>110.655</td>\n",
       "      <td>0.01284</td>\n",
       "      <td>0.00011</td>\n",
       "      <td>0.00655</td>\n",
       "      <td>0.00908</td>\n",
       "      <td>0.01966</td>\n",
       "      <td>0.06425</td>\n",
       "      <td>...</td>\n",
       "      <td>0.10470</td>\n",
       "      <td>0.01767</td>\n",
       "      <td>19.649</td>\n",
       "      <td>1</td>\n",
       "      <td>0.417356</td>\n",
       "      <td>0.823484</td>\n",
       "      <td>-3.747787</td>\n",
       "      <td>0.234513</td>\n",
       "      <td>2.332180</td>\n",
       "      <td>0.410335</td>\n",
       "    </tr>\n",
       "  </tbody>\n",
       "</table>\n",
       "<p>5 rows × 24 columns</p>\n",
       "</div>"
      ],
      "text/plain": [
       "             name  MDVP:Fo(Hz)  MDVP:Fhi(Hz)  MDVP:Flo(Hz)  MDVP:Jitter(%)  \\\n",
       "0  phon_R01_S01_1      119.992       157.302        74.997         0.00784   \n",
       "1  phon_R01_S01_2      122.400       148.650       113.819         0.00968   \n",
       "2  phon_R01_S01_3      116.682       131.111       111.555         0.01050   \n",
       "3  phon_R01_S01_4      116.676       137.871       111.366         0.00997   \n",
       "4  phon_R01_S01_5      116.014       141.781       110.655         0.01284   \n",
       "\n",
       "   MDVP:Jitter(Abs)  MDVP:RAP  MDVP:PPQ  Jitter:DDP  MDVP:Shimmer  ...  \\\n",
       "0           0.00007   0.00370   0.00554     0.01109       0.04374  ...   \n",
       "1           0.00008   0.00465   0.00696     0.01394       0.06134  ...   \n",
       "2           0.00009   0.00544   0.00781     0.01633       0.05233  ...   \n",
       "3           0.00009   0.00502   0.00698     0.01505       0.05492  ...   \n",
       "4           0.00011   0.00655   0.00908     0.01966       0.06425  ...   \n",
       "\n",
       "   Shimmer:DDA      NHR     HNR  status      RPDE       DFA   spread1  \\\n",
       "0      0.06545  0.02211  21.033       1  0.414783  0.815285 -4.813031   \n",
       "1      0.09403  0.01929  19.085       1  0.458359  0.819521 -4.075192   \n",
       "2      0.08270  0.01309  20.651       1  0.429895  0.825288 -4.443179   \n",
       "3      0.08771  0.01353  20.644       1  0.434969  0.819235 -4.117501   \n",
       "4      0.10470  0.01767  19.649       1  0.417356  0.823484 -3.747787   \n",
       "\n",
       "    spread2        D2       PPE  \n",
       "0  0.266482  2.301442  0.284654  \n",
       "1  0.335590  2.486855  0.368674  \n",
       "2  0.311173  2.342259  0.332634  \n",
       "3  0.334147  2.405554  0.368975  \n",
       "4  0.234513  2.332180  0.410335  \n",
       "\n",
       "[5 rows x 24 columns]"
      ]
     },
     "execution_count": 13,
     "metadata": {},
     "output_type": "execute_result"
    }
   ],
   "source": [
    "# We will start by loading the parkinson dataset. The rest is up to you!\n",
    "df = pd.read_csv('parkinsons.data', \n",
    "                 dtype = { # indicate categorical variables\n",
    "                     'status': 'category'})\n",
    "df.head(5)"
   ]
  },
  {
   "cell_type": "markdown",
   "id": "9c433fda",
   "metadata": {},
   "source": [
    "### 1. Cleaning and tidying the dataset"
   ]
  },
  {
   "cell_type": "markdown",
   "id": "0c10ce7a",
   "metadata": {},
   "source": [
    "For cleaning and tidying the dataset the names of the variables were changed and the missing rows and duplicated rows eliminated. "
   ]
  },
  {
   "cell_type": "code",
   "execution_count": 4,
   "id": "b34465cd",
   "metadata": {},
   "outputs": [],
   "source": [
    "from fibbo_func import renamevars\n",
    "\n",
    "dict_names = {'MDVP:Fo(Hz)':'avFF',\n",
    "              'MDVP:Fhi(Hz)':'maxFF',\n",
    "              'MDVP:Flo(Hz)':'minFF',\n",
    "              'MDVP:Jitter(%)': 'percJitter',\n",
    "              'MDVP:Jitter(Abs)':'absJitter' ,\n",
    "              'MDVP:RAP': 'rap',\n",
    "              'MDVP:PPQ': 'ppq',\n",
    "              'Jitter:DDP': 'ddp',\n",
    "              'MDVP:Shimmer' : 'lShimer',\n",
    "              'MDVP:Shimmer(dB)': 'dbShimer',\n",
    "              'Shimmer:APQ3':'apq3',\n",
    "              'Shimmer:APQ5': 'apq5',\n",
    "              'MDVP:APQ':'apq',\n",
    "              'Shimmer:DDA':'dda'}\n",
    "df=renamevars(df, dict_names)\n",
    "\n",
    "df = df.dropna()\n",
    "df = df.drop_duplicates()\n",
    "df.head()\n"
   ]
  },
  {
   "cell_type": "markdown",
   "id": "617353cb",
   "metadata": {},
   "source": [
    "### 2. Basic EDA based on plots and descriptive statistics"
   ]
  },
  {
   "cell_type": "markdown",
   "id": "b11cf671",
   "metadata": {},
   "source": [
    "Before starting to create the plots, I need to import the necessary `scat_plt` function and then call it to generate the plots."
   ]
  },
  {
   "cell_type": "code",
   "execution_count": null,
   "id": "5e44f3a7",
   "metadata": {},
   "outputs": [],
   "source": [
    "from fibbo_func import scat_plt as scat_plt"
   ]
  },
  {
   "cell_type": "markdown",
   "id": "8f5152a2",
   "metadata": {},
   "source": [
    "To have a better overview of the correlation between variables using scartter plots, we have implemented a modified version of the `scat_plot` function called `scat_plt_2` that arranges the different scatter plots in a grid."
   ]
  },
  {
   "cell_type": "code",
   "execution_count": null,
   "id": "f650ca2e",
   "metadata": {},
   "outputs": [],
   "source": [
    "from fibbo_func import scat_plt_2 as scat_plt_2"
   ]
  },
  {
   "cell_type": "markdown",
   "id": "7e180f2e",
   "metadata": {},
   "source": [
    "Now that the needed functions are imported, we are able to create the scatter plots. We will start with the **Fundamental Frequency** (FF) variables. There are 3 FF variables, so we will be needing k · (k-1)/2 plots. As k = 3 in this case we then need (3 * 2)/2 = 3 plots."
   ]
  },
  {
   "cell_type": "code",
   "execution_count": null,
   "id": "838b427c",
   "metadata": {},
   "outputs": [],
   "source": [
    "ff = df.columns[1:4]\n",
    "\n",
    "# Create a 1x3 grid for the subplots\n",
    "fig, axs = plt.subplots(1, 3, figsize=(15,5))\n",
    "\n",
    "\n",
    "# Loop through all pairwise combinations and create subplots\n",
    "for (i, j), ax in zip([(i, j) for i in range(len(ff)) for j in range(i + 1, len(ff))], axs.flatten()):\n",
    "    scat_plt_2(df[ff[i]], df[ff[j]], df.status, ax)\n",
    "    ax.set_title(f'{ff[i]} vs {ff[j]}')  # Set subplot title\n",
    "\n",
    "# Hide any remaining empty subplots\n",
    "for ax in axs.flatten()[len(ff) * (len(ff) - 1):]:\n",
    "    ax.axis('off')\n",
    "\n",
    "plt.tight_layout()\n",
    "plt.show()"
   ]
  },
  {
   "cell_type": "markdown",
   "id": "e17e3719",
   "metadata": {},
   "source": [
    "We can see from the plots that all the FF variables are highly correlated. We can do the same for the 4 **Jitter** variables, where 6 scatter plots result from the pairwise comparison."
   ]
  },
  {
   "cell_type": "code",
   "execution_count": null,
   "id": "bd08a362",
   "metadata": {},
   "outputs": [],
   "source": [
    "jitter = df.columns[4:8]\n",
    "\n",
    "# Create a 3x3 grid for the subplots\n",
    "fig, axs = plt.subplots(2, 3, figsize=(15, 10))\n",
    "\n",
    "\n",
    "# Loop through all pairwise combinations and create subplots\n",
    "for (i, j), ax in zip([(i, j) for i in range(len(jitter)) for j in range(i + 1, len(jitter))], axs.flatten()):\n",
    "    scat_plt_2(df[jitter[i]], df[jitter[j]], df.status, ax)\n",
    "    ax.set_title(f'{jitter[i]} vs {jitter[j]}')  # Set subplot title\n",
    "\n",
    "# Hide any remaining empty subplots\n",
    "for ax in axs.flatten()[len(jitter) * (len(jitter) - 1):]:\n",
    "    ax.axis('off')\n",
    "\n",
    "plt.tight_layout()\n",
    "plt.show()"
   ]
  },
  {
   "cell_type": "markdown",
   "id": "5c1c6499",
   "metadata": {},
   "source": [
    "Finally, we use the function to analyse the correlation for all the **Shimmer** variables. In this case we will be needing (6 * 5) / 2 =  15 plots."
   ]
  },
  {
   "cell_type": "code",
   "execution_count": null,
   "id": "a804bbbd",
   "metadata": {},
   "outputs": [],
   "source": [
    "shimmer = df.columns[9:15] # Selection of Shimmer variables\n",
    "\n",
    "# Create a 3x5 grid for the subplots\n",
    "fig, axs = plt.subplots(3, 5, figsize=(15, 10))\n",
    "\n",
    "# Loop through all pairwise combinations and create subplots\n",
    "for (i, j), ax in zip([(i, j) for i in range(len(shimmer)) for j in range(i + 1, len(shimmer))], axs.flatten()):\n",
    "    scat_plt_2(df[shimmer[i]], df[shimmer[j]], df.status, ax)\n",
    "    ax.set_title(f'{shimmer[i]} vs {shimmer[j]}')  # Set subplot title\n",
    "\n",
    "# Hide any remaining empty subplots\n",
    "for ax in axs.flatten()[len(shimmer) * (len(shimmer) - 1):]:\n",
    "    ax.axis('off')\n",
    "\n",
    "plt.tight_layout()\n",
    "plt.show()"
   ]
  },
  {
   "cell_type": "markdown",
   "id": "67652ca8",
   "metadata": {},
   "source": [
    "To see if correlation exists, it is often helpful to generate a visual correlation matrix. For example, for Jitter and Shimemr variables correlation plots are displayed, as well as the most correlated variable (the one with highest sum of correlation coefficients). "
   ]
  },
  {
   "cell_type": "code",
   "execution_count": null,
   "id": "a66a7097",
   "metadata": {},
   "outputs": [],
   "source": [
    "correlation_matrix = df[jitter].corr()\n",
    "plt.figure(figsize=(10, 8))\n",
    "sns.heatmap(correlation_matrix, annot=True, cmap='coolwarm', fmt=\".2f\", linewidths=.5)\n",
    "plt.title('Correlation Matrix of Jitter Variables')\n",
    "plt.show()\n",
    "\n",
    "# This code identifies the most correlated variable with the rest by summing the corr values\n",
    "most_correlated_variable = correlation_matrix.abs().sum().idxmax()\n",
    "print('\\nThe most correlated variable turns out to be', most_correlated_variable)"
   ]
  },
  {
   "cell_type": "code",
   "execution_count": null,
   "id": "abf6104a",
   "metadata": {},
   "outputs": [],
   "source": [
    "correlation_matrix = df[shimmer].corr()\n",
    "plt.figure(figsize=(10, 8))\n",
    "sns.heatmap(correlation_matrix, annot=True, cmap='coolwarm', fmt=\".2f\", linewidths=.5)\n",
    "plt.title('Correlation Matrix of Shimmer Variables')\n",
    "plt.show()\n",
    "\n",
    "# This code identifies the most correlated variable with the rest by summing the corr values\n",
    "most_correlated_variable = correlation_matrix.abs().sum().idxmax()\n",
    "print('\\nThe most correlated variable turns out to be', most_correlated_variable)"
   ]
  },
  {
   "cell_type": "markdown",
   "id": "9d38d201",
   "metadata": {},
   "source": [
    "### 3. Aggregating and transforming variables in the dataset"
   ]
  },
  {
   "cell_type": "markdown",
   "id": "d6d3b6e1",
   "metadata": {},
   "source": [
    "For aggregating and transforming the data, we will be needing the auxiliary functions `group_and_average` and the `normalize` functions."
   ]
  },
  {
   "cell_type": "code",
   "execution_count": null,
   "id": "c786a5d6",
   "metadata": {},
   "outputs": [],
   "source": [
    "from fibbo_func import group_and_average\n",
    "from fibbo_func import normalize"
   ]
  },
  {
   "cell_type": "markdown",
   "id": "0402cb4c",
   "metadata": {},
   "source": [
    "Now we apply the normalize function to the aggregated data using the Z-score and the min-max option. We obtain two different noramlized dataframes."
   ]
  },
  {
   "cell_type": "code",
   "execution_count": null,
   "id": "af1d1f42",
   "metadata": {},
   "outputs": [],
   "source": [
    "norm_z_df = normalize(av_df, 0) # Normalising the aggregated data using the Z-score\n",
    "norm_minmax_df = normalize(av_df,1) # Normalising the aggregated data using the minmax method"
   ]
  },
  {
   "cell_type": "markdown",
   "id": "4d095e42",
   "metadata": {},
   "source": [
    "### 4. Differentiating between controls (healthy subjects) and patients"
   ]
  },
  {
   "cell_type": "markdown",
   "id": "ccc70315",
   "metadata": {},
   "source": [
    "First, the appropriate package for K Neighbors classification has to be imported."
   ]
  },
  {
   "cell_type": "code",
   "execution_count": null,
   "id": "89f2cf82",
   "metadata": {},
   "outputs": [],
   "source": [
    "from sklearn.neighbors import KNeighborsClassifier"
   ]
  },
  {
   "cell_type": "markdown",
   "id": "e53d35f7",
   "metadata": {},
   "source": [
    "1) Classification method is performed on **cleaned and aggregated** data."
   ]
  },
  {
   "cell_type": "code",
   "execution_count": null,
   "id": "e5b8b213",
   "metadata": {},
   "outputs": [],
   "source": [
    "y = av_df['stat'] #Labels in status train the classifier\n",
    "X = av_df.drop(['id','stat'], axis=1) # drop all varibales that are not predicting variables\n",
    "\n",
    "# Initialize the model with n = neighbors\n",
    "knn = KNeighborsClassifier(n_neighbors=3)\n",
    "## Fit the model on the observed data.\n",
    "knn.fit(X, y)\n",
    "## See how the model performs.\n",
    "Acc = knn.score(X, y)\n",
    "print ('The accuracy of the model is ' + str(Acc))"
   ]
  },
  {
   "cell_type": "markdown",
   "id": "a079b2a2",
   "metadata": {},
   "source": [
    "2) Now we will repeat the analysis by normalising the variables using **Z score**."
   ]
  },
  {
   "cell_type": "code",
   "execution_count": null,
   "id": "8cb3f56b",
   "metadata": {},
   "outputs": [],
   "source": [
    "y = norm_z_df['stat']\n",
    "X = norm_z_df.drop(['id','stat'], axis=1) # drop all varribales that are not predicting variables\n",
    "\n",
    "# Initialize the model with n = neighbors\n",
    "knn = KNeighborsClassifier(n_neighbors=3)\n",
    "## Fit the model on the observed data.\n",
    "knn.fit(X, y)\n",
    "## See how the model performs.\n",
    "Acc = knn.score(X, y)\n",
    "print ('The accuracy of the model is ' + str(Acc))"
   ]
  },
  {
   "cell_type": "markdown",
   "id": "956a35f4",
   "metadata": {},
   "source": [
    "3) Finally, cleaned, aggregated but normalized data using the **min-max** option."
   ]
  },
  {
   "cell_type": "code",
   "execution_count": null,
   "id": "680c5fdd",
   "metadata": {},
   "outputs": [],
   "source": [
    "y = norm_minmax_df['stat']\n",
    "X = norm_minmax_df.drop(['id','stat'], axis=1) # drop all varribales that are not predicting variables\n",
    "\n",
    "# Initialize the model with n = neighbors\n",
    "knn = KNeighborsClassifier(n_neighbors=3)\n",
    "## Fit the model on the observed data.\n",
    "knn.fit(X, y)\n",
    "## See how the model performs.\n",
    "Acc = knn.score(X, y)\n",
    "print ('The accuracy of the model is ' + str(Acc))"
   ]
  },
  {
   "cell_type": "markdown",
   "id": "debf128a",
   "metadata": {},
   "source": [
    "We do not seem to find differences of accuracy between the models, although it was expected that normalization would yield imporved accuracy. "
   ]
  }
 ],
 "metadata": {
  "kernelspec": {
   "display_name": "Python 3 (ipykernel)",
   "language": "python",
   "name": "python3"
  },
  "language_info": {
   "codemirror_mode": {
    "name": "ipython",
    "version": 3
   },
   "file_extension": ".py",
   "mimetype": "text/x-python",
   "name": "python",
   "nbconvert_exporter": "python",
   "pygments_lexer": "ipython3",
   "version": "3.10.12"
  }
 },
 "nbformat": 4,
 "nbformat_minor": 5
}
